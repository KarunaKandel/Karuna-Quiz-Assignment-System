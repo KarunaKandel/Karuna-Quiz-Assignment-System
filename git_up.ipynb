{
 "cells": [
  {
   "cell_type": "code",
   "execution_count": 1,
   "metadata": {},
   "outputs": [
    {
     "name": "stderr",
     "output_type": "stream",
     "text": [
      "warning: in the working copy of 'git_up.ipynb', LF will be replaced by CRLF the next time Git touches it\n"
     ]
    },
    {
     "name": "stdout",
     "output_type": "stream",
     "text": [
      "[main c97af9c] karua update 5\n",
      " 24 files changed, 48 insertions(+), 27 deletions(-)\n",
      " delete mode 100644 .vs/Karuna_assignment_quiz/FileContentIndex/2c32da0d-f9d2-4146-a1e1-454f8ac6f6e2.vsidx\n",
      " create mode 100644 .vs/Karuna_assignment_quiz/FileContentIndex/aa95251d-4e15-45b6-862c-b880fb7e620e.vsidx\n"
     ]
    },
    {
     "name": "stderr",
     "output_type": "stream",
     "text": [
      "To https://github.com/Nirab123456/karuna_assignment.git\n",
      "   90a2931..c97af9c  main -> main\n"
     ]
    }
   ],
   "source": [
    "!git add .\n",
    "!git commit -m \"karua update 5\"\n",
    "!git push \n",
    "#"
   ]
  }
 ],
 "metadata": {
  "kernelspec": {
   "display_name": "tf",
   "language": "python",
   "name": "python3"
  },
  "language_info": {
   "codemirror_mode": {
    "name": "ipython",
    "version": 3
   },
   "file_extension": ".py",
   "mimetype": "text/x-python",
   "name": "python",
   "nbconvert_exporter": "python",
   "pygments_lexer": "ipython3",
   "version": "3.9.18"
  }
 },
 "nbformat": 4,
 "nbformat_minor": 2
}
